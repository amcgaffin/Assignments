{
  "nbformat": 4,
  "nbformat_minor": 0,
  "metadata": {
    "colab": {
      "provenance": []
    },
    "kernelspec": {
      "name": "python3",
      "display_name": "Python 3"
    },
    "language_info": {
      "name": "python"
    }
  },
  "cells": [
    {
      "cell_type": "code",
      "execution_count": 13,
      "metadata": {
        "colab": {
          "base_uri": "https://localhost:8080/"
        },
        "id": "jJZC4sMc5VdB",
        "outputId": "b9f6f0e8-e4a4-45df-b4bf-a1cc9bb9f00a"
      },
      "outputs": [
        {
          "output_type": "stream",
          "name": "stdout",
          "text": [
            "Harry - Available\n",
            "**Paul - Unavailable - Please enter a new username\n",
            "**Cari - Unavailable - Please enter a new username\n",
            "Loren - Available\n",
            "Dave - Available\n",
            "Roger - Available\n"
          ]
        }
      ],
      "source": [
        "current_users = ['Jake','Paul','Kate','Cari','Jenny','Lori']\n",
        "new_users = ['Harry','Paul','Cari','Loren','Dave','Roger']\n",
        "for new_users in new_users:\n",
        "  if new_users in current_users:\n",
        "    print(f\"**{new_users} - Unavailable - Please enter a new username\")\n",
        "  elif new_users.upper() in [user.upper() for user in current_users]:\n",
        "    print(f\"{new_users} - Unavailable - Please enter a new username\")\n",
        "  else:\n",
        "    print(f\"{new_users} - Available\")"
      ]
    },
    {
      "cell_type": "markdown",
      "source": [
        "1. Do the following to create a program that simulates how websites ensure that everyone has a unique username.\n",
        "\n",
        "􏰀* Make a list of five or more usernames called current_users.\n",
        "\n",
        "􏰀* Make another list of five usernames called new_users. Make sure one or two of the new usernames are also in the current_users list.\n",
        "\n",
        "􏰀* Loop through the new_users list to see if each new username has already been used. If it has, print a message that the person will need to enter a new username. If a username has not been used, print a message saying that the username is available.\n",
        "\n",
        "􏰀* Make sure your comparison is case insensitive. If 'John' has been used, 'JOHN' should not be accepted."
      ],
      "metadata": {
        "id": "IJ5Hj-ytCwSv"
      }
    },
    {
      "cell_type": "code",
      "source": [
        "bag_of_marbles = {'red':{'smooth':1,'bumpy':4},'yellow':{'smooth':1,'bumpy':2},'green':{'smooth':1,'bumpy':1}}\n",
        "def color_probability(color,texture):\n",
        "  total_marbles = sum(bag_of_marbles[color].values())\n",
        "  choosen_marble = bag_of_marbles[color][texture]\n",
        "  return choosen_marble/total_marbles\n",
        "  #Tried using this return statement however both return statements give the wrong probability.... return bag_of_marbles[color][texture]/sum(bag_of_marbles[color].values())\n",
        "choosen_marble = (input('Select a Color: '))\n",
        "choosen_marble_texture = (input('Select a Texture: '))\n",
        "color_probability('red','bumpy')\n",
        "probability = color_probability(choosen_marble, choosen_marble_texture)\n",
        "print(f'The probability is {probability:.2f}')\n",
        "#I could not replicate the results given in the problem, my math is slightly off given the number of marbles"
      ],
      "metadata": {
        "colab": {
          "base_uri": "https://localhost:8080/"
        },
        "id": "gMA2U1csCu1o",
        "outputId": "cf6feaa2-80a4-4002-e7bd-f4e9ceafb16e"
      },
      "execution_count": 14,
      "outputs": [
        {
          "output_type": "stream",
          "name": "stdout",
          "text": [
            "Select a Color: red\n",
            "Select a Texture: bumpy\n",
            "The probability is 0.80\n"
          ]
        }
      ]
    },
    {
      "cell_type": "markdown",
      "source": [
        "2. Color probability\n",
        "\n",
        "You're playing a game with a friend involving a bag of marbles. In the bag are ten marbles:\n",
        "\n",
        "1 smooth red marble, 4 bumpy red marbles, 2 bumpy yellow marbles, 1 smooth yellow marble, 1 bumpy green marble, 1 smooth green marble\n",
        "\n",
        "You can see that the probability of picking a smooth red marble from the bag is 1 / 10 or 0.10 and the probability of picking a bumpy yellow marble is 2 / 10 or 0.20.\n",
        "\n",
        "The game works like this: your friend puts her hand in the bag, chooses a marble (without looking at it) and tells you whether it's bumpy or smooth. Then you have to guess which color it is before she pulls it out and reveals whether you're correct or not.\n",
        "\n",
        "You know that the information about whether the marble is bumpy or smooth changes the probability of what color it is, and you want some help with your guesses.\n",
        "\n",
        "Write a function color_probability that takes two arguments: a color ('red', 'yellow', or 'green') and a texture ('bumpy' or 'smooth') and returns the probability of drawing that combination as a decimal fraction accurate to two places.\n",
        "\n",
        "The probability should be a string and should discard any digits after the 100ths place. For example, 2 / 3 or 0.6666666666666666 would become the string '0.66'. Note this is different from rounding.\n",
        "\n",
        "As a complete example, color_probability('red', 'bumpy') should return the string '0.57'."
      ],
      "metadata": {
        "id": "xbkF7Pa6CvTB"
      }
    },
    {
      "cell_type": "code",
      "source": [
        "age = int(input('What is your age? '))\n",
        "if age < 2:\n",
        "  print('You are a baby.')\n",
        "elif (2 <= age < 4):\n",
        "  print('You are a toddler.')\n",
        "elif (4 <= age < 13):\n",
        "    print('You are a kid.')\n",
        "elif (13 <= age < 20):\n",
        "  print('You are a teenager.')\n",
        "elif (20 <= age < 65):\n",
        "  print('You are an adult.')\n",
        "else:\n",
        "    print('You are an elder.')"
      ],
      "metadata": {
        "colab": {
          "base_uri": "https://localhost:8080/"
        },
        "id": "ep1hBTeGjLco",
        "outputId": "6a8b035d-c1de-4759-c019-5c3cf4b70234"
      },
      "execution_count": 70,
      "outputs": [
        {
          "output_type": "stream",
          "name": "stdout",
          "text": [
            "What is your age? 22\n",
            "You are an adult.\n"
          ]
        }
      ]
    },
    {
      "cell_type": "markdown",
      "source": [
        "3. Write an if-elif-else chain that determines a person’s stage of life.\n",
        "\n",
        "Set a value for the variable age, and then:\n",
        "\n",
        "􏰀* If the person is less than 2 years old, print a message that the person is a baby.\n",
        "\n",
        "*􏰀 If the person is at least 2 years old but less than 4, print a message that the person is a toddler.\n",
        "\n",
        "*􏰀 If the person is at least 4 years old but less than 13, print a message that the person is a kid.\n",
        "\n",
        "*􏰀 If the person is at least 13 years old but less than 20, print a message that the person is a teenager.\n",
        "\n",
        "*􏰀 If the person is at least 20 years old but less than 65, print a message that the person is an adult.\n",
        "\n",
        "*􏰀 If the person is age 65 or older, print a message that the person is an elder."
      ],
      "metadata": {
        "id": "zCRc6MQR5enn"
      }
    }
  ]
}