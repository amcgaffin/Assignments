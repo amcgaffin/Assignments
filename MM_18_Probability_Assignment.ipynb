{
  "nbformat": 4,
  "nbformat_minor": 0,
  "metadata": {
    "colab": {
      "provenance": []
    },
    "kernelspec": {
      "name": "python3",
      "display_name": "Python 3"
    },
    "language_info": {
      "name": "python"
    }
  },
  "cells": [
    {
      "cell_type": "markdown",
      "source": [
        "If a list of people has 24 women and 21 men, then the probability of choosing a man from the list is 21/45.\n",
        "What is the probability of not choosing a man?\n",
        "\n",
        "a) 24/45\n",
        "\n",
        "b) 1-(21/24)\n",
        "\n",
        "c) 21/24\n",
        "\n",
        "d) 24/21"
      ],
      "metadata": {
        "id": "Er7Nc9hyz4pg"
      }
    },
    {
      "cell_type": "markdown",
      "source": [
        "The probability of not choosing a man is 24/45."
      ],
      "metadata": {
        "id": "YAPFqGwo4-mY"
      }
    },
    {
      "cell_type": "markdown",
      "source": [
        "The probability that Bernice will travel by plane sometime in the next year is 10%. The probability of a plane crash at any time is 0.005%.\n",
        "What is the probability that Bernice will be in a plane crash sometime in the next year?\n",
        "\n",
        "a) 50%\n",
        "\n",
        "b) 0.0010%\n",
        "\n",
        "c) 10%\n",
        "\n",
        "d) 0.0005%"
      ],
      "metadata": {
        "id": "f7eiEolS5DBM"
      }
    },
    {
      "cell_type": "markdown",
      "source": [
        "According to statistics of plane crashes, regardless if Bernice is on the plane or not the plane has the same probability of crashing.\n",
        "\n",
        "10% * 0.005% = .0005%\n",
        "\n",
        " \"The probability of two or more independent events can be calculated by multiplying the probabilities of each individual event.\""
      ],
      "metadata": {
        "id": "P7nPYD0K6pZq"
      }
    },
    {
      "cell_type": "markdown",
      "source": [
        "A data scientist wants to study the behavior of users on the company website. Each time a user clicks on a link on the website, there is a 5% chance that the user will be asked to complete a short survey about their behavior on the website.\n",
        "The data scientist uses the survey data to conclude that, on average, users spend 15 minutes surfing the company website before moving on to other things. What is wrong with this conclusion?\n",
        "\n",
        "a) Customers should be asked to complete surveys 25% of the time.\n",
        "\n",
        "b) People who surf longer are likely to click more links, increasing the odds of getting a survey.\n",
        "\n",
        "c) The average internet user only surfs a site for 12 minutes, on average.\n",
        "\n",
        "d) The data scientist is not considering mobile applications."
      ],
      "metadata": {
        "id": "CGBQ9SAl7bRz"
      }
    },
    {
      "cell_type": "markdown",
      "source": [
        "The survey needs to be offered more in order to collect a larger sample so the reasonable answer would be answer a."
      ],
      "metadata": {
        "id": "C7m7cGMb7gLo"
      }
    },
    {
      "cell_type": "markdown",
      "source": [
        "A diagnostic test has a 98% probability of giving a positive result when applied to a person suffering from Thripshaw's disease and a 10% probability of giving a (false) positive when applied to a nonsufferer. It is estimated that 0.5% of the population has the disease.\n",
        "Suppose that the test is now administered to a person whose disease status is unknown. Calculate the probability that the test will be positive.\n",
        "\n",
        "a) 0.0049\n",
        "\n",
        "b) 0.0995\n",
        "\n",
        "c) 0.1044\n",
        "\n",
        "d) 0.995"
      ],
      "metadata": {
        "id": "24Kk4ns-94Or"
      }
    },
    {
      "cell_type": "code",
      "source": [
        "dia_test = .98\n",
        "fals_pos = .10\n",
        "pop = .005\n",
        "prob = .995"
      ],
      "metadata": {
        "id": "OBDS6FvTAhy1"
      },
      "execution_count": 3,
      "outputs": []
    },
    {
      "cell_type": "code",
      "source": [
        "probab = (dia_test * pop) + (fals_pos * prob)\n",
        "print(probab)"
      ],
      "metadata": {
        "colab": {
          "base_uri": "https://localhost:8080/"
        },
        "id": "atbZnBRAA6bM",
        "outputId": "36c70a29-7b0e-49b2-9a34-06cfc850b038"
      },
      "execution_count": 4,
      "outputs": [
        {
          "output_type": "stream",
          "name": "stdout",
          "text": [
            "0.1044\n"
          ]
        }
      ]
    },
    {
      "cell_type": "markdown",
      "source": [
        "The answer is c 0.1044."
      ],
      "metadata": {
        "id": "FRInE13iBFvu"
      }
    }
  ]
}