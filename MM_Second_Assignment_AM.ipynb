{
  "nbformat": 4,
  "nbformat_minor": 0,
  "metadata": {
    "colab": {
      "provenance": []
    },
    "kernelspec": {
      "name": "python3",
      "display_name": "Python 3"
    },
    "language_info": {
      "name": "python"
    }
  },
  "cells": [
    {
      "cell_type": "code",
      "execution_count": 2,
      "metadata": {
        "colab": {
          "base_uri": "https://localhost:8080/"
        },
        "id": "ONzNw-qRoT3b",
        "outputId": "392f5605-8260-43a4-956f-1184c339e357"
      },
      "outputs": [
        {
          "output_type": "stream",
          "name": "stdout",
          "text": [
            "121.06814074060814\n",
            "2210.6814074060812\n",
            "1210.6814074060812\n",
            "When we buy bitcoin with 1000 USD at the beginning of the week, we would earn 1211 USD at the end of the week\n",
            "With an average gain of 12.0 percent.\n",
            "-3.3333333333333335\n",
            "14\n",
            "The Hypotenuse is 10.0\n"
          ]
        }
      ],
      "source": [
        "#Assignment#2\n",
        "#1- Suppose you invested in Bitcoin at the end of 2020 when Bitcoin gained a lot of value.\n",
        "# What would be your money at the end of a week if you had invested $1000 with an average daily increase of 12% ? You can solve the problem using Python.\n",
        "x, y, z = 1000, .12, 7\n",
        "Money = x * (1+y)**z\n",
        "Money_earned = Money - x\n",
        "final_growth_rate = (Money/x) - 1\n",
        "#print(final_growth_rate)\n",
        "Percentage = final_growth_rate * 100\n",
        "print(Percentage)\n",
        "print(Money)\n",
        "print(Money_earned)\n",
        "\n",
        "#2- Print the text in quotes with Python. However, you must get the numbers from variables using .format() notation. Because the text is long, you might consider writing in two lines:\n",
        "sentence = ('When we buy bitcoin with {} USD at the beginning of the week'.format(x))\n",
        "sentence2 = ('When we buy bitcoin with {0} USD at the beginning of the week, we would earn {1} USD at the end of the week'.format(x,round(Money_earned)))\n",
        "sentence3 = ( 'With an average gain of {} percent.'.format(y*100))\n",
        "print(sentence2)\n",
        "print(sentence3)\n",
        "\n",
        "#3- Get the temperature in Fahrenheit from user and write a code to convert it to Celcius. For conversion, you can use this formula: C = (5/9) * (F - 32)\n",
        "#Enter the temperature in Fahrenheit\n",
        "Fahrenheit = 26\n",
        "Celcius = -3.33\n",
        "Temperature = (5/9) * (Fahrenheit - 32)\n",
        "print(Temperature)\n",
        "\n",
        "#4- Get a three digit number the from user and calculate the sum of the digits in the integer.\n",
        "#user --> 365\n",
        "Number = 365\n",
        "Integer = 3 + 6 +5\n",
        "print(Integer)\n",
        "\n",
        "#5- Write some code to calculate the hypotenuse of a right angled triangle. Get the side lengths from the user.\n",
        "#user --> first side lenth : 6 ... user --> first side lenth : 8 ... output --> \"The length of the hypotenuse is 10\n",
        "first_side = 6\n",
        "second_side = 8\n",
        "hypotenuse = (first_side**2 + second_side**2)**.5\n",
        "print('The Hypotenuse is', hypotenuse)\n",
        "\n"
      ]
    },
    {
      "cell_type": "markdown",
      "source": [
        "Create a variable capital ($1000)\n",
        "\n",
        "Create a variable for daily growth (12%)\n",
        "\n",
        "Create a variable for period (7)\n",
        "\n",
        "Calculate the final growth rate\n",
        "\n",
        "Calculate result\n",
        "\n",
        "Print result"
      ],
      "metadata": {
        "id": "XwdOLkP6pwqa"
      }
    }
  ]
}