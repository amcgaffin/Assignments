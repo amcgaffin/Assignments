{
  "nbformat": 4,
  "nbformat_minor": 0,
  "metadata": {
    "colab": {
      "provenance": []
    },
    "kernelspec": {
      "name": "python3",
      "display_name": "Python 3"
    },
    "language_info": {
      "name": "python"
    }
  },
  "cells": [
    {
      "cell_type": "code",
      "execution_count": 2,
      "metadata": {
        "colab": {
          "base_uri": "https://localhost:8080/"
        },
        "id": "Kw3j544B4P_t",
        "outputId": "40122723-745d-4d99-bf7b-3773cc5088d6"
      },
      "outputs": [
        {
          "output_type": "stream",
          "name": "stdout",
          "text": [
            "Enter a number: 11\n",
            "True, the number entered is a prime number.\n"
          ]
        }
      ],
      "source": [
        "num = int(input(\"Enter a number: \"))\n",
        "\n",
        "prime = False\n",
        "if num == 0 or num == 1:\n",
        "    print(num, \"is not a prime number\")\n",
        "elif num > 1:\n",
        "    for i in range(2, num):\n",
        "        if (num % i) == 0:\n",
        "            prime = True\n",
        "            break\n",
        "    if prime:\n",
        "        print(\"False, the number entered is not a prime number.\")\n",
        "    else:\n",
        "        print(\"True, the number entered is a prime number.\")"
      ]
    },
    {
      "cell_type": "markdown",
      "source": [
        "1.Finding Prime Number\n",
        "\n",
        "A prime number is an integer greater than one that is only divisible by one and itself. Write a function that determines whether or not its parameter is prime, returning True if it is, and False otherwise. Write a main program that reads an integer from the user and displays a message indicating whether or not it is prime."
      ],
      "metadata": {
        "id": "Kjmt83qA4Yg5"
      }
    },
    {
      "cell_type": "code",
      "source": [
        "celsius_to_romer = lambda celsius: (celsius * 21) / 40 + 7.5\n",
        "temp = int(input(\"Enter a temperature in Celsius: \"))\n",
        "print(celsius_to_romer(temp))"
      ],
      "metadata": {
        "colab": {
          "base_uri": "https://localhost:8080/"
        },
        "id": "ldjwb0ub4Y5d",
        "outputId": "2666eb1f-935f-4578-914e-cd110f65b7a6"
      },
      "execution_count": 6,
      "outputs": [
        {
          "output_type": "stream",
          "name": "stdout",
          "text": [
            "Enter a temperature in Celsius: 24\n",
            "20.1\n"
          ]
        }
      ]
    },
    {
      "cell_type": "markdown",
      "source": [
        "2.Rømer temperature\n",
        "\n",
        "You're writing an excruciatingly detailed alternate history novel set in a world where Daniel Gabriel Fahrenheit was never born.\n",
        "\n",
        "Since Fahrenheit never lived the world kept on using the Rømer scale, invented by fellow Dane Ole Rømer to this very day, skipping over the Fahrenheit and Celsius scales entirely.\n",
        "\n",
        "Your magnum opus contains several thousand references to temperature, but those temperatures are all currently in degrees Celsius. You don't want to convert everything by hand, so you've decided to write a function, celsius_to_romer that takes a temperature in degrees Celsius and returns the equivalent temperature in degrees Rømer.\n",
        "\n",
        "For example: celsius_to_romer(24) should return 20.1."
      ],
      "metadata": {
        "id": "OWqZHLl-4ZTa"
      }
    },
    {
      "cell_type": "code",
      "source": [
        "is_divisible = lambda wall, pixel: True if (wall % pixel) == 0 else False\n",
        "\n",
        "print(is_divisible(4050, 27))\n",
        "print(is_divisible(4066, 27))\n",
        "size = int(input(\"Enter the size of the wall in millimeters: \"))\n",
        "pixel = int(input(\"Enter the size of a pixel in millimeters: \"))\n",
        "if is_divisible(size,pixel):\n",
        "        print(\"True, the pixels will fit.\")\n",
        "else:\n",
        "        print(\"False, the pixels will not fit.\")\n",
        "#print(is_divisible(size, pixel))"
      ],
      "metadata": {
        "colab": {
          "base_uri": "https://localhost:8080/"
        },
        "id": "u_lZIpCP4Zqa",
        "outputId": "8afefeb0-1957-4506-df2c-492620c875bb"
      },
      "execution_count": 22,
      "outputs": [
        {
          "output_type": "stream",
          "name": "stdout",
          "text": [
            "True\n",
            "False\n",
            "Enter the size of the wall in millimeters: 3088\n",
            "Enter the size of a pixel in millimeters: 24\n",
            "False, the pixels will not fit.\n"
          ]
        }
      ]
    },
    {
      "cell_type": "markdown",
      "source": [
        "3.Pixelart planning\n",
        "\n",
        "You're laying out a rad pixel art mural to paint on your living room wall in homage to Paul Robertson, your favorite pixel artist.\n",
        "\n",
        "You want your work to be perfect down to the millimeter. You haven't decided on the dimensions of your piece, how large you want your pixels to be, or which wall you want to use. You just know that you want to fit an exact number of pixels.\n",
        "\n",
        "To help decide those things you've decided to write a function, is_divisible that will tell you whether a wall of a certain length can exactly fit an integer number of pixels of a certain length.\n",
        "\n",
        "Your function should take two arguments: the size of the wall in millimeters and the size of a pixel in millimeters. It should return True if you can fit an exact number of pixels on the wall, otherwise it should return False. For example is_divisible(4050, 27) should return True, but is_divisible(4066, 27) should return False.\n",
        "\n",
        "Note: you don't need to use an if statement here. Remember that in Python an expression using the == comparison operator will evaluate to either True or False:"
      ],
      "metadata": {
        "id": "Q7fEgqMb4Z_P"
      }
    }
  ]
}