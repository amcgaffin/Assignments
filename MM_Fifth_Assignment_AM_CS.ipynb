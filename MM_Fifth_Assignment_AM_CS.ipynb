{
  "nbformat": 4,
  "nbformat_minor": 0,
  "metadata": {
    "colab": {
      "provenance": []
    },
    "kernelspec": {
      "name": "python3",
      "display_name": "Python 3"
    },
    "language_info": {
      "name": "python"
    }
  },
  "cells": [
    {
      "cell_type": "code",
      "execution_count": 5,
      "metadata": {
        "colab": {
          "base_uri": "https://localhost:8080/"
        },
        "id": "i0FybrZNewHW",
        "outputId": "663cf37e-c7ea-452a-d3b4-d77fc44cfdd4"
      },
      "outputs": [
        {
          "output_type": "stream",
          "name": "stdout",
          "text": [
            "Enter a number within 10-20: 21\n",
            "Incorrect answer\n"
          ]
        }
      ],
      "source": [
        "choosen_number = int(input('Enter a number within 10-20: '))\n",
        "if 10 <= choosen_number <= 20:\n",
        "    print('Thank you')\n",
        "else:\n",
        "    print('Incorrect answer')"
      ]
    },
    {
      "cell_type": "code",
      "source": [
        "alphabet = ['a','b','c','d','e','f','g','h','i','j','k','l','m','n','o','p','q','r','s','t','u','v','w','x','y','z']\n",
        "choosen_letter = input('Enter a letter: ')\n",
        "if choosen_letter in ['a','e','i','o','u']:\n",
        "    print('Letter is a vowel')\n",
        "elif (choosen_letter == 'y'):\n",
        "    print('Letter is sometimes a vowel and sometimes a consonant')\n",
        "else:\n",
        "    print('Letter is a consonant')\n"
      ],
      "metadata": {
        "colab": {
          "base_uri": "https://localhost:8080/"
        },
        "id": "aUh5YLwzkrLp",
        "outputId": "5037925c-4a06-487f-8f18-ac7133df7a56"
      },
      "execution_count": 24,
      "outputs": [
        {
          "output_type": "stream",
          "name": "stdout",
          "text": [
            "Enter a letter: y\n",
            "Letter is sometimes a vowel and sometimes a consonant\n"
          ]
        }
      ]
    },
    {
      "cell_type": "markdown",
      "source": [
        "2- In this exercise, you will create a program that reads a letter of the alphabet from the user. According to the answer:\n",
        "\n",
        "\n",
        "If the user enters a, e, i, o, u, then your program should display a message indicating that the entered letter is a vowel.\n",
        "\n",
        "If the user enters y, then your program should display a message indicating that y is sometimes a vowel and sometimes a consonant.\n",
        "\n",
        "Otherwise, your program should display a message indicating that the letter is a consonant."
      ],
      "metadata": {
        "id": "hfKGs5O_e0EE"
      }
    }
  ]
}