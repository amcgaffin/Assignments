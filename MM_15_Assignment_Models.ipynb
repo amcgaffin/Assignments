{
  "nbformat": 4,
  "nbformat_minor": 0,
  "metadata": {
    "colab": {
      "provenance": []
    },
    "kernelspec": {
      "name": "python3",
      "display_name": "Python 3"
    },
    "language_info": {
      "name": "python"
    }
  },
  "cells": [
    {
      "cell_type": "code",
      "source": [
        "from sklearn.linear_model import LogisticRegression\n",
        "from sklearn.model_selection import train_test_split\n",
        "from sklearn.preprocessing import StandardScaler\n",
        "from sklearn.datasets import load_digits\n",
        "from sklearn.neighbors import KNeighborsClassifier\n",
        "import numpy as np"
      ],
      "metadata": {
        "id": "VrKdXkMtrsgg"
      },
      "execution_count": 1,
      "outputs": []
    },
    {
      "cell_type": "markdown",
      "source": [
        "### Steps:\n",
        "- Import digits data set from Scikitlearn datasets library. Use `load_digits()`. When loaded, the dataset comes with `data` and `target` values.\n",
        "- Assign `data` to X and `target` to y\n",
        "- Check the shape of the data\n",
        "- Use `np.bincount` to print the number of uniqe elements of the target vriable `y`\n",
        "- Split data into train and test datasets. Use stratification when splitting. You can set your `random_state` to `42`\n",
        "- Normalize your dataset. When normalizing, simply divide your dataset by the maximum of the train dataset. To find the maximum, use `max("
      ],
      "metadata": {
        "id": "M8EwOhm6rWby"
      }
    },
    {
      "cell_type": "code",
      "execution_count": 2,
      "metadata": {
        "colab": {
          "base_uri": "https://localhost:8080/"
        },
        "id": "wN6OzObUqZq2",
        "outputId": "4aa8a6e0-73c6-46df-e10c-af4777441e8f"
      },
      "outputs": [
        {
          "output_type": "stream",
          "name": "stdout",
          "text": [
            "(1797, 64)\n"
          ]
        }
      ],
      "source": [
        "digits = load_digits()\n",
        "X = digits.data\n",
        "y = digits.target\n",
        "print(X.shape)"
      ]
    },
    {
      "cell_type": "code",
      "source": [
        "y[1:10]\n"
      ],
      "metadata": {
        "colab": {
          "base_uri": "https://localhost:8080/"
        },
        "id": "4MdomdLMr6tl",
        "outputId": "94a82da5-5379-4391-d27a-edbc484647f7"
      },
      "execution_count": 5,
      "outputs": [
        {
          "output_type": "execute_result",
          "data": {
            "text/plain": [
              "array([1, 2, 3, 4, 5, 6, 7, 8, 9])"
            ]
          },
          "metadata": {},
          "execution_count": 5
        }
      ]
    },
    {
      "cell_type": "code",
      "source": [
        "np.bincount(y)"
      ],
      "metadata": {
        "colab": {
          "base_uri": "https://localhost:8080/"
        },
        "id": "Xi_fzRHOsDi6",
        "outputId": "c9bde535-7feb-4f85-badf-15d5ff8363ff"
      },
      "execution_count": 6,
      "outputs": [
        {
          "output_type": "execute_result",
          "data": {
            "text/plain": [
              "array([178, 182, 177, 183, 181, 182, 181, 179, 174, 180])"
            ]
          },
          "metadata": {},
          "execution_count": 6
        }
      ]
    },
    {
      "cell_type": "code",
      "source": [
        "X_train, X_test, y_train, y_test = train_test_split(X,y, stratify=y,random_state=42)"
      ],
      "metadata": {
        "id": "SgpEBYO1sESD"
      },
      "execution_count": 7,
      "outputs": []
    },
    {
      "cell_type": "code",
      "source": [
        "X_max = X_train.max()\n",
        "X_train =X_train/X_max\n",
        "X_test = X_test/X_max"
      ],
      "metadata": {
        "id": "8b5w4dFTsP1_"
      },
      "execution_count": 8,
      "outputs": []
    },
    {
      "cell_type": "code",
      "source": [
        "knn = KNeighborsClassifier()\n",
        "logistic = LogisticRegression(max_iter=1000)\n",
        "\n",
        "print('KNN score: %f' % knn.fit(X_train, y_train).score(X_test, y_test))\n",
        "print('LogisticRegression score: %f' % logistic.fit\n",
        " (X_train,y_train).score(X_test, y_test))\n"
      ],
      "metadata": {
        "colab": {
          "base_uri": "https://localhost:8080/"
        },
        "id": "5KcqHuTWsUwJ",
        "outputId": "b80eff9a-dcc4-4f1b-9472-77b06d1f12ae"
      },
      "execution_count": 9,
      "outputs": [
        {
          "output_type": "stream",
          "name": "stdout",
          "text": [
            "KNN score: 0.984444\n",
            "LogisticRegression score: 0.962222\n"
          ]
        }
      ]
    }
  ]
}