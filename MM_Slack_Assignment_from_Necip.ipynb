{
  "nbformat": 4,
  "nbformat_minor": 0,
  "metadata": {
    "colab": {
      "provenance": []
    },
    "kernelspec": {
      "name": "python3",
      "display_name": "Python 3"
    },
    "language_info": {
      "name": "python"
    }
  },
  "cells": [
    {
      "cell_type": "code",
      "execution_count": 43,
      "metadata": {
        "colab": {
          "base_uri": "https://localhost:8080/"
        },
        "id": "OGLHN1TovSK4",
        "outputId": "450ceff8-5ed4-4e46-bbda-fd8c860a331e"
      },
      "outputs": [
        {
          "output_type": "stream",
          "name": "stdout",
          "text": [
            "6\n",
            "--------------------------------------------------------------------------------\n",
            "60\n",
            "--------------------------------------------------------------------------------\n",
            "Number of Pieces we can buy is 18\n",
            "Money leftover from purchases 2\n",
            "--------------------------------------------------------------------------------\n",
            "10 and 5\n",
            "--------------------------------------------------------------------------------\n",
            "75\n",
            "--------------------------------------------------------------------------------\n",
            "ali / 3\n",
            "ali/ali/ali/\n",
            "--------------------------------------------------------------------------------\n",
            "False\n",
            "--------------------------------------------------------------------------------\n",
            "False\n",
            "--------------------------------------------------------------------------------\n",
            "None\n",
            "--------------------------------------------------------------------------------\n"
          ]
        }
      ],
      "source": [
        "number= 1*2*3\n",
        "print(number)\n",
        "print('--'*40)\n",
        "BMI = 200/(1.8288 *1.8288)\n",
        "print(round(BMI))\n",
        "print('--'*40)\n",
        "money = 200\n",
        "price = 11\n",
        "pieces_of_material = money//price\n",
        "print('Number of Pieces we can buy is', pieces_of_material)\n",
        "money_left = money%price\n",
        "print('Money leftover from purchases', money_left)\n",
        "print('--'*40)\n",
        "x = 5\n",
        "y = 10\n",
        "x,y = y,x\n",
        "print(x,'and',y)\n",
        "print('--'*40)\n",
        "equation = (x-y)*(x+y)\n",
        "print(equation)\n",
        "print('--'*40)\n",
        "word = 'ali'\n",
        "sep = '/'\n",
        "repetition = 3\n",
        "print(word,sep,repetition)\n",
        "print((word+sep)*repetition)\n",
        "print('--'*40)\n",
        "print(False)\n",
        "print('--'*40)\n",
        "print(False)\n",
        "print('--'*40)\n",
        "print(None)\n",
        "print('--'*40)"
      ]
    },
    {
      "cell_type": "markdown",
      "source": [
        "1. \"Write a program that multiplies three numbers entered by the user. Print the output with the format method.\"\n",
        "\n",
        "2.  \"Write a program that calculates body mass index from **height** and **weight** entered by the user. \\n\",\n",
        "    \"Body mass index :  Weight / Height(m) * Height(m)\"\n",
        "  \n",
        "3.  \"With your $ 200, how many pieces of material can you get for $ 11 each? How much money do you have left after buying?\"\n",
        "\n",
        "4.  \"Ask the user for two numbers and assign these numbers to variables and replace the values of these variables with each other.\"\n",
        "\n",
        "5.  \"Write a Python program to solve (x - y) * (x + y).\"\n",
        "\n",
        "6.  \"Get **word**, **seperator** and **repetition** values from the user and print the word on the screen according to the given values. \\n\",\n",
        "    \"Ex: ``word = ali, sep = /, repetition = 3`` ----> ``ali/ali/ali``\"\n",
        "\n",
        "7.  \">Do not run the code, try to figure out in your mind.\\n\",\n",
        "    \"\\n\",\n",
        "    \"What will be the output of the following syntax :\\n\",\n",
        "    \"\\n\",\n",
        "    \"```python\\n\",\n",
        "    \"print(True and False and (not True and False) and not (True or False))\\n\",\n",
        "    \"```\"\n",
        "\n",
        "8.  \">Do not run the code, try to figure out in your mind.\\n\",\n",
        "    \"\\n\",\n",
        "    \"What will be the output of the following syntax :\\n\",\n",
        "    \"\\n\",\n",
        "    \"```python\\n\",\n",
        "    \"print(True and False and not \\\"False\\\" and None and (\\\"None\\\" or None))\\n\",\n",
        "    \"```\"\n",
        "\n",
        "9.  \">Do not run the code, try to figure out in your mind.\\n\",\n",
        "    \"\\n\",\n",
        "    \"What will be the output of the following syntax :\\n\",\n",
        "    \"\\n\",\n",
        "    \"```python\\n\",\n",
        "    \"print(\\\"magnimind\\\" and 0 and not \\\"\\\" and False and (\\\" \\\" or None))\\n\",\n",
        "    \"```\""
      ],
      "metadata": {
        "id": "eQO0f-8FwkLu"
      }
    }
  ]
}