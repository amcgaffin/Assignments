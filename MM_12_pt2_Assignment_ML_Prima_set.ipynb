{
  "nbformat": 4,
  "nbformat_minor": 0,
  "metadata": {
    "colab": {
      "provenance": []
    },
    "kernelspec": {
      "name": "python3",
      "display_name": "Python 3"
    },
    "language_info": {
      "name": "python"
    }
  },
  "cells": [
    {
      "cell_type": "markdown",
      "source": [
        "Load the Prima Indians Onset of Diabates dataset. It is a standard machine learning dataset available for free download from the UCI Machine Learning repository. It describes patient medical record data for Pima Indians and whether they had an onset of diabetes within five years. It is a binary classification problem (onset of diabetes as 1 or not as 0)\n",
        "\n",
        "NTP: Number of times pregnant.\n",
        "\n",
        "*   PGC: Plasma glucose concentration a 2 hours in an oral glucose tolerance test. 3. Diastolic blood pressure (mm Hg).\n",
        "*   TSFT: Triceps skin fold thickness (mm).\n",
        "*   2hSI: 2-Hour serum insulin (mu U/ml).\n",
        "*   BMI: Body mass index.\n",
        "*   DPF: Diabetes pedigree function.\n",
        "*   Age: Age (years).\n",
        "*   OnDiab: Class, onset of diabetes within five years.\n",
        "*   Set the dataset columns names to ['NTP', 'PGC','DBP','TSFT','2hSI','BMI','DPF','Age','OnDiab'].\n",
        "*   Print the size of the data set.\n",
        "*   Print the first 10 observations of your data set"
      ],
      "metadata": {
        "id": "TuSNo6_psDve"
      }
    },
    {
      "cell_type": "code",
      "execution_count": 3,
      "metadata": {
        "colab": {
          "base_uri": "https://localhost:8080/"
        },
        "id": "7Mpze5_TreDy",
        "outputId": "30408bd2-7f6e-44f6-d5f1-cb549045da74"
      },
      "outputs": [
        {
          "output_type": "execute_result",
          "data": {
            "text/plain": [
              "(767, 9)"
            ]
          },
          "metadata": {},
          "execution_count": 3
        }
      ],
      "source": [
        "import pandas as pd\n",
        "dataset = pd.read_csv('diabetes.csv')\n",
        "dataset.columns = ['NTP', 'PGC','DBP','TSFT','2hSI','BMI','DPF','Age','OnDiab']\n",
        "dataset.shape"
      ]
    },
    {
      "cell_type": "code",
      "source": [
        "print('First ten observations:\\n',dataset.head(11))"
      ],
      "metadata": {
        "colab": {
          "base_uri": "https://localhost:8080/"
        },
        "id": "PtNrxAoLxNlz",
        "outputId": "93edd89d-7bc1-407f-8465-1543adca76f3"
      },
      "execution_count": 6,
      "outputs": [
        {
          "output_type": "stream",
          "name": "stdout",
          "text": [
            "First ten observations:\n",
            "     NTP  PGC  DBP  TSFT  2hSI   BMI    DPF  Age  OnDiab\n",
            "0     1   85   66    29     0  26.6  0.351   31       0\n",
            "1     8  183   64     0     0  23.3  0.672   32       1\n",
            "2     1   89   66    23    94  28.1  0.167   21       0\n",
            "3     0  137   40    35   168  43.1  2.288   33       1\n",
            "4     5  116   74     0     0  25.6  0.201   30       0\n",
            "5     3   78   50    32    88  31.0  0.248   26       1\n",
            "6    10  115    0     0     0  35.3  0.134   29       0\n",
            "7     2  197   70    45   543  30.5  0.158   53       1\n",
            "8     8  125   96     0     0   0.0  0.232   54       1\n",
            "9     4  110   92     0     0  37.6  0.191   30       0\n",
            "10   10  168   74     0     0  38.0  0.537   34       1\n"
          ]
        }
      ]
    },
    {
      "cell_type": "markdown",
      "source": [
        "Data type and description for each attribute\n",
        "\n",
        "*   Print the data type for each attribute using dtypes method of a pandas data frame\n",
        "*   Descriptive statistics can give you great insight into the properties of each attribute. Often you can create more summaries than you have time to review. The describe() function on the Pandas DataFrame lists 8 statistical properties of each attribute. They are: Count, Mean, Standard Deviation, Minimum Value, 25th Percentile, 50th Percentile (Median), 75th Percentile, Maximum Value.\n",
        "*   On classication problems you need to know how balanced the class values are. Highly imbalanced problems (a lot more observations for one class than another) are common and may need special handling in the data preparation stage of your project. You can quickly get an idea of the distribution of the OnDiab attribute in Pandas. Grup your data by OnDiab attribute and use the size method to count the number of different values of class attribute."
      ],
      "metadata": {
        "id": "uWD95cwxxIc5"
      }
    },
    {
      "cell_type": "code",
      "source": [
        "types = dataset.dtypes\n",
        "print(types)"
      ],
      "metadata": {
        "colab": {
          "base_uri": "https://localhost:8080/"
        },
        "id": "s-qyeXn2xt3s",
        "outputId": "dc8b7e74-23ce-4650-c07a-84b9d211af06"
      },
      "execution_count": 7,
      "outputs": [
        {
          "output_type": "stream",
          "name": "stdout",
          "text": [
            "NTP         int64\n",
            "PGC         int64\n",
            "DBP         int64\n",
            "TSFT        int64\n",
            "2hSI        int64\n",
            "BMI       float64\n",
            "DPF       float64\n",
            "Age         int64\n",
            "OnDiab      int64\n",
            "dtype: object\n"
          ]
        }
      ]
    },
    {
      "cell_type": "code",
      "source": [
        "dataset.describe()"
      ],
      "metadata": {
        "colab": {
          "base_uri": "https://localhost:8080/",
          "height": 300
        },
        "id": "uIzCo86zBDvS",
        "outputId": "4936d6cf-5bb8-4126-bf54-58f561a3d77f"
      },
      "execution_count": 8,
      "outputs": [
        {
          "output_type": "execute_result",
          "data": {
            "text/plain": [
              "              NTP         PGC         DBP        TSFT        2hSI         BMI  \\\n",
              "count  767.000000  767.000000  767.000000  767.000000  767.000000  767.000000   \n",
              "mean     3.842243  120.859192   69.101695   20.517601   79.903520   31.990482   \n",
              "std      3.370877   31.978468   19.368155   15.954059  115.283105    7.889091   \n",
              "min      0.000000    0.000000    0.000000    0.000000    0.000000    0.000000   \n",
              "25%      1.000000   99.000000   62.000000    0.000000    0.000000   27.300000   \n",
              "50%      3.000000  117.000000   72.000000   23.000000   32.000000   32.000000   \n",
              "75%      6.000000  140.000000   80.000000   32.000000  127.500000   36.600000   \n",
              "max     17.000000  199.000000  122.000000   99.000000  846.000000   67.100000   \n",
              "\n",
              "              DPF         Age      OnDiab  \n",
              "count  767.000000  767.000000  767.000000  \n",
              "mean     0.471674   33.219035    0.348110  \n",
              "std      0.331497   11.752296    0.476682  \n",
              "min      0.078000   21.000000    0.000000  \n",
              "25%      0.243500   24.000000    0.000000  \n",
              "50%      0.371000   29.000000    0.000000  \n",
              "75%      0.625000   41.000000    1.000000  \n",
              "max      2.420000   81.000000    1.000000  "
            ],
            "text/html": [
              "\n",
              "  <div id=\"df-e15855ed-71a3-44ce-a930-f7afae6f3a2b\" class=\"colab-df-container\">\n",
              "    <div>\n",
              "<style scoped>\n",
              "    .dataframe tbody tr th:only-of-type {\n",
              "        vertical-align: middle;\n",
              "    }\n",
              "\n",
              "    .dataframe tbody tr th {\n",
              "        vertical-align: top;\n",
              "    }\n",
              "\n",
              "    .dataframe thead th {\n",
              "        text-align: right;\n",
              "    }\n",
              "</style>\n",
              "<table border=\"1\" class=\"dataframe\">\n",
              "  <thead>\n",
              "    <tr style=\"text-align: right;\">\n",
              "      <th></th>\n",
              "      <th>NTP</th>\n",
              "      <th>PGC</th>\n",
              "      <th>DBP</th>\n",
              "      <th>TSFT</th>\n",
              "      <th>2hSI</th>\n",
              "      <th>BMI</th>\n",
              "      <th>DPF</th>\n",
              "      <th>Age</th>\n",
              "      <th>OnDiab</th>\n",
              "    </tr>\n",
              "  </thead>\n",
              "  <tbody>\n",
              "    <tr>\n",
              "      <th>count</th>\n",
              "      <td>767.000000</td>\n",
              "      <td>767.000000</td>\n",
              "      <td>767.000000</td>\n",
              "      <td>767.000000</td>\n",
              "      <td>767.000000</td>\n",
              "      <td>767.000000</td>\n",
              "      <td>767.000000</td>\n",
              "      <td>767.000000</td>\n",
              "      <td>767.000000</td>\n",
              "    </tr>\n",
              "    <tr>\n",
              "      <th>mean</th>\n",
              "      <td>3.842243</td>\n",
              "      <td>120.859192</td>\n",
              "      <td>69.101695</td>\n",
              "      <td>20.517601</td>\n",
              "      <td>79.903520</td>\n",
              "      <td>31.990482</td>\n",
              "      <td>0.471674</td>\n",
              "      <td>33.219035</td>\n",
              "      <td>0.348110</td>\n",
              "    </tr>\n",
              "    <tr>\n",
              "      <th>std</th>\n",
              "      <td>3.370877</td>\n",
              "      <td>31.978468</td>\n",
              "      <td>19.368155</td>\n",
              "      <td>15.954059</td>\n",
              "      <td>115.283105</td>\n",
              "      <td>7.889091</td>\n",
              "      <td>0.331497</td>\n",
              "      <td>11.752296</td>\n",
              "      <td>0.476682</td>\n",
              "    </tr>\n",
              "    <tr>\n",
              "      <th>min</th>\n",
              "      <td>0.000000</td>\n",
              "      <td>0.000000</td>\n",
              "      <td>0.000000</td>\n",
              "      <td>0.000000</td>\n",
              "      <td>0.000000</td>\n",
              "      <td>0.000000</td>\n",
              "      <td>0.078000</td>\n",
              "      <td>21.000000</td>\n",
              "      <td>0.000000</td>\n",
              "    </tr>\n",
              "    <tr>\n",
              "      <th>25%</th>\n",
              "      <td>1.000000</td>\n",
              "      <td>99.000000</td>\n",
              "      <td>62.000000</td>\n",
              "      <td>0.000000</td>\n",
              "      <td>0.000000</td>\n",
              "      <td>27.300000</td>\n",
              "      <td>0.243500</td>\n",
              "      <td>24.000000</td>\n",
              "      <td>0.000000</td>\n",
              "    </tr>\n",
              "    <tr>\n",
              "      <th>50%</th>\n",
              "      <td>3.000000</td>\n",
              "      <td>117.000000</td>\n",
              "      <td>72.000000</td>\n",
              "      <td>23.000000</td>\n",
              "      <td>32.000000</td>\n",
              "      <td>32.000000</td>\n",
              "      <td>0.371000</td>\n",
              "      <td>29.000000</td>\n",
              "      <td>0.000000</td>\n",
              "    </tr>\n",
              "    <tr>\n",
              "      <th>75%</th>\n",
              "      <td>6.000000</td>\n",
              "      <td>140.000000</td>\n",
              "      <td>80.000000</td>\n",
              "      <td>32.000000</td>\n",
              "      <td>127.500000</td>\n",
              "      <td>36.600000</td>\n",
              "      <td>0.625000</td>\n",
              "      <td>41.000000</td>\n",
              "      <td>1.000000</td>\n",
              "    </tr>\n",
              "    <tr>\n",
              "      <th>max</th>\n",
              "      <td>17.000000</td>\n",
              "      <td>199.000000</td>\n",
              "      <td>122.000000</td>\n",
              "      <td>99.000000</td>\n",
              "      <td>846.000000</td>\n",
              "      <td>67.100000</td>\n",
              "      <td>2.420000</td>\n",
              "      <td>81.000000</td>\n",
              "      <td>1.000000</td>\n",
              "    </tr>\n",
              "  </tbody>\n",
              "</table>\n",
              "</div>\n",
              "    <div class=\"colab-df-buttons\">\n",
              "\n",
              "  <div class=\"colab-df-container\">\n",
              "    <button class=\"colab-df-convert\" onclick=\"convertToInteractive('df-e15855ed-71a3-44ce-a930-f7afae6f3a2b')\"\n",
              "            title=\"Convert this dataframe to an interactive table.\"\n",
              "            style=\"display:none;\">\n",
              "\n",
              "  <svg xmlns=\"http://www.w3.org/2000/svg\" height=\"24px\" viewBox=\"0 -960 960 960\">\n",
              "    <path d=\"M120-120v-720h720v720H120Zm60-500h600v-160H180v160Zm220 220h160v-160H400v160Zm0 220h160v-160H400v160ZM180-400h160v-160H180v160Zm440 0h160v-160H620v160ZM180-180h160v-160H180v160Zm440 0h160v-160H620v160Z\"/>\n",
              "  </svg>\n",
              "    </button>\n",
              "\n",
              "  <style>\n",
              "    .colab-df-container {\n",
              "      display:flex;\n",
              "      gap: 12px;\n",
              "    }\n",
              "\n",
              "    .colab-df-convert {\n",
              "      background-color: #E8F0FE;\n",
              "      border: none;\n",
              "      border-radius: 50%;\n",
              "      cursor: pointer;\n",
              "      display: none;\n",
              "      fill: #1967D2;\n",
              "      height: 32px;\n",
              "      padding: 0 0 0 0;\n",
              "      width: 32px;\n",
              "    }\n",
              "\n",
              "    .colab-df-convert:hover {\n",
              "      background-color: #E2EBFA;\n",
              "      box-shadow: 0px 1px 2px rgba(60, 64, 67, 0.3), 0px 1px 3px 1px rgba(60, 64, 67, 0.15);\n",
              "      fill: #174EA6;\n",
              "    }\n",
              "\n",
              "    .colab-df-buttons div {\n",
              "      margin-bottom: 4px;\n",
              "    }\n",
              "\n",
              "    [theme=dark] .colab-df-convert {\n",
              "      background-color: #3B4455;\n",
              "      fill: #D2E3FC;\n",
              "    }\n",
              "\n",
              "    [theme=dark] .colab-df-convert:hover {\n",
              "      background-color: #434B5C;\n",
              "      box-shadow: 0px 1px 3px 1px rgba(0, 0, 0, 0.15);\n",
              "      filter: drop-shadow(0px 1px 2px rgba(0, 0, 0, 0.3));\n",
              "      fill: #FFFFFF;\n",
              "    }\n",
              "  </style>\n",
              "\n",
              "    <script>\n",
              "      const buttonEl =\n",
              "        document.querySelector('#df-e15855ed-71a3-44ce-a930-f7afae6f3a2b button.colab-df-convert');\n",
              "      buttonEl.style.display =\n",
              "        google.colab.kernel.accessAllowed ? 'block' : 'none';\n",
              "\n",
              "      async function convertToInteractive(key) {\n",
              "        const element = document.querySelector('#df-e15855ed-71a3-44ce-a930-f7afae6f3a2b');\n",
              "        const dataTable =\n",
              "          await google.colab.kernel.invokeFunction('convertToInteractive',\n",
              "                                                    [key], {});\n",
              "        if (!dataTable) return;\n",
              "\n",
              "        const docLinkHtml = 'Like what you see? Visit the ' +\n",
              "          '<a target=\"_blank\" href=https://colab.research.google.com/notebooks/data_table.ipynb>data table notebook</a>'\n",
              "          + ' to learn more about interactive tables.';\n",
              "        element.innerHTML = '';\n",
              "        dataTable['output_type'] = 'display_data';\n",
              "        await google.colab.output.renderOutput(dataTable, element);\n",
              "        const docLink = document.createElement('div');\n",
              "        docLink.innerHTML = docLinkHtml;\n",
              "        element.appendChild(docLink);\n",
              "      }\n",
              "    </script>\n",
              "  </div>\n",
              "\n",
              "\n",
              "<div id=\"df-2940df2c-edcc-46f6-9f19-83410dd13dba\">\n",
              "  <button class=\"colab-df-quickchart\" onclick=\"quickchart('df-2940df2c-edcc-46f6-9f19-83410dd13dba')\"\n",
              "            title=\"Suggest charts\"\n",
              "            style=\"display:none;\">\n",
              "\n",
              "<svg xmlns=\"http://www.w3.org/2000/svg\" height=\"24px\"viewBox=\"0 0 24 24\"\n",
              "     width=\"24px\">\n",
              "    <g>\n",
              "        <path d=\"M19 3H5c-1.1 0-2 .9-2 2v14c0 1.1.9 2 2 2h14c1.1 0 2-.9 2-2V5c0-1.1-.9-2-2-2zM9 17H7v-7h2v7zm4 0h-2V7h2v10zm4 0h-2v-4h2v4z\"/>\n",
              "    </g>\n",
              "</svg>\n",
              "  </button>\n",
              "\n",
              "<style>\n",
              "  .colab-df-quickchart {\n",
              "      --bg-color: #E8F0FE;\n",
              "      --fill-color: #1967D2;\n",
              "      --hover-bg-color: #E2EBFA;\n",
              "      --hover-fill-color: #174EA6;\n",
              "      --disabled-fill-color: #AAA;\n",
              "      --disabled-bg-color: #DDD;\n",
              "  }\n",
              "\n",
              "  [theme=dark] .colab-df-quickchart {\n",
              "      --bg-color: #3B4455;\n",
              "      --fill-color: #D2E3FC;\n",
              "      --hover-bg-color: #434B5C;\n",
              "      --hover-fill-color: #FFFFFF;\n",
              "      --disabled-bg-color: #3B4455;\n",
              "      --disabled-fill-color: #666;\n",
              "  }\n",
              "\n",
              "  .colab-df-quickchart {\n",
              "    background-color: var(--bg-color);\n",
              "    border: none;\n",
              "    border-radius: 50%;\n",
              "    cursor: pointer;\n",
              "    display: none;\n",
              "    fill: var(--fill-color);\n",
              "    height: 32px;\n",
              "    padding: 0;\n",
              "    width: 32px;\n",
              "  }\n",
              "\n",
              "  .colab-df-quickchart:hover {\n",
              "    background-color: var(--hover-bg-color);\n",
              "    box-shadow: 0 1px 2px rgba(60, 64, 67, 0.3), 0 1px 3px 1px rgba(60, 64, 67, 0.15);\n",
              "    fill: var(--button-hover-fill-color);\n",
              "  }\n",
              "\n",
              "  .colab-df-quickchart-complete:disabled,\n",
              "  .colab-df-quickchart-complete:disabled:hover {\n",
              "    background-color: var(--disabled-bg-color);\n",
              "    fill: var(--disabled-fill-color);\n",
              "    box-shadow: none;\n",
              "  }\n",
              "\n",
              "  .colab-df-spinner {\n",
              "    border: 2px solid var(--fill-color);\n",
              "    border-color: transparent;\n",
              "    border-bottom-color: var(--fill-color);\n",
              "    animation:\n",
              "      spin 1s steps(1) infinite;\n",
              "  }\n",
              "\n",
              "  @keyframes spin {\n",
              "    0% {\n",
              "      border-color: transparent;\n",
              "      border-bottom-color: var(--fill-color);\n",
              "      border-left-color: var(--fill-color);\n",
              "    }\n",
              "    20% {\n",
              "      border-color: transparent;\n",
              "      border-left-color: var(--fill-color);\n",
              "      border-top-color: var(--fill-color);\n",
              "    }\n",
              "    30% {\n",
              "      border-color: transparent;\n",
              "      border-left-color: var(--fill-color);\n",
              "      border-top-color: var(--fill-color);\n",
              "      border-right-color: var(--fill-color);\n",
              "    }\n",
              "    40% {\n",
              "      border-color: transparent;\n",
              "      border-right-color: var(--fill-color);\n",
              "      border-top-color: var(--fill-color);\n",
              "    }\n",
              "    60% {\n",
              "      border-color: transparent;\n",
              "      border-right-color: var(--fill-color);\n",
              "    }\n",
              "    80% {\n",
              "      border-color: transparent;\n",
              "      border-right-color: var(--fill-color);\n",
              "      border-bottom-color: var(--fill-color);\n",
              "    }\n",
              "    90% {\n",
              "      border-color: transparent;\n",
              "      border-bottom-color: var(--fill-color);\n",
              "    }\n",
              "  }\n",
              "</style>\n",
              "\n",
              "  <script>\n",
              "    async function quickchart(key) {\n",
              "      const quickchartButtonEl =\n",
              "        document.querySelector('#' + key + ' button');\n",
              "      quickchartButtonEl.disabled = true;  // To prevent multiple clicks.\n",
              "      quickchartButtonEl.classList.add('colab-df-spinner');\n",
              "      try {\n",
              "        const charts = await google.colab.kernel.invokeFunction(\n",
              "            'suggestCharts', [key], {});\n",
              "      } catch (error) {\n",
              "        console.error('Error during call to suggestCharts:', error);\n",
              "      }\n",
              "      quickchartButtonEl.classList.remove('colab-df-spinner');\n",
              "      quickchartButtonEl.classList.add('colab-df-quickchart-complete');\n",
              "    }\n",
              "    (() => {\n",
              "      let quickchartButtonEl =\n",
              "        document.querySelector('#df-2940df2c-edcc-46f6-9f19-83410dd13dba button');\n",
              "      quickchartButtonEl.style.display =\n",
              "        google.colab.kernel.accessAllowed ? 'block' : 'none';\n",
              "    })();\n",
              "  </script>\n",
              "</div>\n",
              "\n",
              "    </div>\n",
              "  </div>\n"
            ],
            "application/vnd.google.colaboratory.intrinsic+json": {
              "type": "dataframe",
              "summary": "{\n  \"name\": \"dataset\",\n  \"rows\": 8,\n  \"fields\": [\n    {\n      \"column\": \"NTP\",\n      \"properties\": {\n        \"dtype\": \"number\",\n        \"std\": 269.49882530177985,\n        \"min\": 0.0,\n        \"max\": 767.0,\n        \"num_unique_values\": 8,\n        \"samples\": [\n          3.8422425032594525,\n          3.0,\n          767.0\n        ],\n        \"semantic_type\": \"\",\n        \"description\": \"\"\n      }\n    },\n    {\n      \"column\": \"PGC\",\n      \"properties\": {\n        \"dtype\": \"number\",\n        \"std\": 243.40333992075466,\n        \"min\": 0.0,\n        \"max\": 767.0,\n        \"num_unique_values\": 8,\n        \"samples\": [\n          120.85919165580182,\n          117.0,\n          767.0\n        ],\n        \"semantic_type\": \"\",\n        \"description\": \"\"\n      }\n    },\n    {\n      \"column\": \"DBP\",\n      \"properties\": {\n        \"dtype\": \"number\",\n        \"std\": 252.50208467303693,\n        \"min\": 0.0,\n        \"max\": 767.0,\n        \"num_unique_values\": 8,\n        \"samples\": [\n          69.10169491525424,\n          72.0,\n          767.0\n        ],\n        \"semantic_type\": \"\",\n        \"description\": \"\"\n      }\n    },\n    {\n      \"column\": \"TSFT\",\n      \"properties\": {\n        \"dtype\": \"number\",\n        \"std\": 263.4183273983487,\n        \"min\": 0.0,\n        \"max\": 767.0,\n        \"num_unique_values\": 7,\n        \"samples\": [\n          767.0,\n          20.517601043024772,\n          32.0\n        ],\n        \"semantic_type\": \"\",\n        \"description\": \"\"\n      }\n    },\n    {\n      \"column\": \"2hSI\",\n      \"properties\": {\n        \"dtype\": \"number\",\n        \"std\": 349.8951240669518,\n        \"min\": 0.0,\n        \"max\": 846.0,\n        \"num_unique_values\": 7,\n        \"samples\": [\n          767.0,\n          79.90352020860496,\n          127.5\n        ],\n        \"semantic_type\": \"\",\n        \"description\": \"\"\n      }\n    },\n    {\n      \"column\": \"BMI\",\n      \"properties\": {\n        \"dtype\": \"number\",\n        \"std\": 261.6984607141848,\n        \"min\": 0.0,\n        \"max\": 767.0,\n        \"num_unique_values\": 8,\n        \"samples\": [\n          31.99048239895697,\n          32.0,\n          767.0\n        ],\n        \"semantic_type\": \"\",\n        \"description\": \"\"\n      }\n    },\n    {\n      \"column\": \"DPF\",\n      \"properties\": {\n        \"dtype\": \"number\",\n        \"std\": 270.9471235853229,\n        \"min\": 0.078,\n        \"max\": 767.0,\n        \"num_unique_values\": 8,\n        \"samples\": [\n          0.47167405475880053,\n          0.371,\n          767.0\n        ],\n        \"semantic_type\": \"\",\n        \"description\": \"\"\n      }\n    },\n    {\n      \"column\": \"Age\",\n      \"properties\": {\n        \"dtype\": \"number\",\n        \"std\": 259.8433168791607,\n        \"min\": 11.752295597433893,\n        \"max\": 767.0,\n        \"num_unique_values\": 8,\n        \"samples\": [\n          33.21903520208605,\n          29.0,\n          767.0\n        ],\n        \"semantic_type\": \"\",\n        \"description\": \"\"\n      }\n    },\n    {\n      \"column\": \"OnDiab\",\n      \"properties\": {\n        \"dtype\": \"number\",\n        \"std\": 271.03309556500244,\n        \"min\": 0.0,\n        \"max\": 767.0,\n        \"num_unique_values\": 5,\n        \"samples\": [\n          0.34810951760104303,\n          1.0,\n          0.47668179499761115\n        ],\n        \"semantic_type\": \"\",\n        \"description\": \"\"\n      }\n    }\n  ]\n}"
            }
          },
          "metadata": {},
          "execution_count": 8
        }
      ]
    },
    {
      "cell_type": "code",
      "source": [
        "dataset.groupby('OnDiab').size()"
      ],
      "metadata": {
        "colab": {
          "base_uri": "https://localhost:8080/",
          "height": 178
        },
        "id": "gT5z11loBHIX",
        "outputId": "952d4f1b-98e3-4d7b-c03c-91fa0db56468"
      },
      "execution_count": 9,
      "outputs": [
        {
          "output_type": "execute_result",
          "data": {
            "text/plain": [
              "OnDiab\n",
              "0    500\n",
              "1    267\n",
              "dtype: int64"
            ],
            "text/html": [
              "<div>\n",
              "<style scoped>\n",
              "    .dataframe tbody tr th:only-of-type {\n",
              "        vertical-align: middle;\n",
              "    }\n",
              "\n",
              "    .dataframe tbody tr th {\n",
              "        vertical-align: top;\n",
              "    }\n",
              "\n",
              "    .dataframe thead th {\n",
              "        text-align: right;\n",
              "    }\n",
              "</style>\n",
              "<table border=\"1\" class=\"dataframe\">\n",
              "  <thead>\n",
              "    <tr style=\"text-align: right;\">\n",
              "      <th></th>\n",
              "      <th>0</th>\n",
              "    </tr>\n",
              "    <tr>\n",
              "      <th>OnDiab</th>\n",
              "      <th></th>\n",
              "    </tr>\n",
              "  </thead>\n",
              "  <tbody>\n",
              "    <tr>\n",
              "      <th>0</th>\n",
              "      <td>500</td>\n",
              "    </tr>\n",
              "    <tr>\n",
              "      <th>1</th>\n",
              "      <td>267</td>\n",
              "    </tr>\n",
              "  </tbody>\n",
              "</table>\n",
              "</div><br><label><b>dtype:</b> int64</label>"
            ]
          },
          "metadata": {},
          "execution_count": 9
        }
      ]
    },
    {
      "cell_type": "markdown",
      "source": [
        "Draw the histogram of your data attributes.\n",
        "A fast way to get an idea of the distribution of each attribute is to look at histograms. Histograms group data into bins and provide you a count of the number of observations in each bin. From the shape of the bins you can quickly get a feeling for whether an attribute is Gaussian, skewed or even has an exponential distribution. It can also help you see possible outliers.\n",
        "\n",
        "*   Use hist() method of pandas data frame to plot the histograms.\n",
        "\n"
      ],
      "metadata": {
        "id": "HmQ8GLpLBbrR"
      }
    },
    {
      "cell_type": "code",
      "source": [
        "dataset.hist()"
      ],
      "metadata": {
        "colab": {
          "base_uri": "https://localhost:8080/",
          "height": 577
        },
        "id": "MWm6gdzjBehu",
        "outputId": "eb0cc86d-3755-4dbe-e9d1-89fa712994e1"
      },
      "execution_count": 10,
      "outputs": [
        {
          "output_type": "execute_result",
          "data": {
            "text/plain": [
              "array([[<Axes: title={'center': 'NTP'}>, <Axes: title={'center': 'PGC'}>,\n",
              "        <Axes: title={'center': 'DBP'}>],\n",
              "       [<Axes: title={'center': 'TSFT'}>,\n",
              "        <Axes: title={'center': '2hSI'}>,\n",
              "        <Axes: title={'center': 'BMI'}>],\n",
              "       [<Axes: title={'center': 'DPF'}>, <Axes: title={'center': 'Age'}>,\n",
              "        <Axes: title={'center': 'OnDiab'}>]], dtype=object)"
            ]
          },
          "metadata": {},
          "execution_count": 10
        },
        {
          "output_type": "display_data",
          "data": {
            "text/plain": [
              "<Figure size 640x480 with 9 Axes>"
            ],
            "image/png": "[encoded data removed]"
          },
          "metadata": {}
        }
      ]
    },
    {
      "cell_type": "markdown",
      "source": [
        "Running a Classifier\n",
        "\n",
        "*   Separate your dataset into feature set X and target variable y. Your target variable is OnDiab.\n",
        "*   Split your dataset into train and test datasets, keep the test dataset size as 0.25 using test_size parameter of train_test_split. Set the random seed top 7 using random_state parameter of train_test_split. Make a stratified split.\n",
        "*   Train KNearestNeighbor classifer on your train dataset and print the score on the the test dataset. Set number of neighbors to 5.\n",
        "\n"
      ],
      "metadata": {
        "id": "HgmGQ_HmBlOR"
      }
    },
    {
      "cell_type": "code",
      "source": [
        "X = dataset.drop('OnDiab', axis=1)\n",
        "y = dataset.OnDiab\n",
        "\n",
        "from sklearn.model_selection import train_test_split\n",
        "X_train, X_test, y_train, y_test = train_test_split(X, y, test_size=0.25,\n",
        "                                                    random_state=7, stratify=y)\n"
      ],
      "metadata": {
        "id": "kOdmogx-Bu8s"
      },
      "execution_count": 16,
      "outputs": []
    },
    {
      "cell_type": "code",
      "source": [
        "from sklearn.neighbors import KNeighborsClassifier\n",
        "knn = KNeighborsClassifier(n_neighbors=5).fit(X_train,y_train)\n",
        "print(\"Test: {:.3f}\".format(knn.score(X_test, y_test)))"
      ],
      "metadata": {
        "colab": {
          "base_uri": "https://localhost:8080/"
        },
        "id": "Zy5eQj0RCQP3",
        "outputId": "b4500b6a-ae14-461d-e058-a51d40ba2da4"
      },
      "execution_count": 28,
      "outputs": [
        {
          "output_type": "stream",
          "name": "stdout",
          "text": [
            "Test: 0.714\n"
          ]
        }
      ]
    },
    {
      "cell_type": "markdown",
      "source": [
        "Grid Search\n",
        "*   Import GridSearchCV from sklearn.model_selection\n",
        "*   Split your data into train and test datasets\n",
        "*   For neighbors=1 to 30, compute GridSearchCV for train dataset with kfold=10.\n",
        "*   Print the best cross validation score\n",
        "*   Print the best parameter\n",
        "Print the test score\n",
        "\n",
        "\n",
        "\n"
      ],
      "metadata": {
        "id": "f9jBSYADDlyq"
      }
    },
    {
      "cell_type": "code",
      "source": [
        "from sklearn.model_selection import GridSearchCV\n",
        "import numpy as np\n",
        "\n",
        "param_grid = {'n_neighbors': np.arange(1,30,2)}\n",
        "grid = GridSearchCV(KNeighborsClassifier(), param_grid=param_grid,\n",
        "                    cv=10,return_train_score=True)\n",
        "grid.fit(X_train, y_train)\n",
        "print(\"best cross validation score: {:.3f}\".format(grid.best_score_))\n",
        "print(\"best parameter: {}\".format(grid.best_params_))\n",
        "print('test score: {:.3f}'.format(grid.score(X_test,y_test)))"
      ],
      "metadata": {
        "colab": {
          "base_uri": "https://localhost:8080/"
        },
        "id": "PuvmbXsgDw-a",
        "outputId": "e03eb1c2-7a91-4325-d9e4-5a2c3782ac8c"
      },
      "execution_count": 30,
      "outputs": [
        {
          "output_type": "stream",
          "name": "stdout",
          "text": [
            "best cross validation score: 0.727\n",
            "best parameter: {'n_neighbors': 29}\n",
            "test score: 0.766\n"
          ]
        }
      ]
    }
  ]
}