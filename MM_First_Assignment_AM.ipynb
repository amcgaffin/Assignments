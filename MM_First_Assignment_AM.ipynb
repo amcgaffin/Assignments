{
  "nbformat": 4,
  "nbformat_minor": 0,
  "metadata": {
    "colab": {
      "provenance": []
    },
    "kernelspec": {
      "name": "python3",
      "display_name": "Python 3"
    },
    "language_info": {
      "name": "python"
    }
  },
  "cells": [
    {
      "cell_type": "code",
      "execution_count": 50,
      "metadata": {
        "colab": {
          "base_uri": "https://localhost:8080/"
        },
        "id": "jN237sihAyvu",
        "outputId": "b3735158-4c66-4721-d3cc-40ed9c8c60ba"
      },
      "outputs": [
        {
          "output_type": "stream",
          "name": "stdout",
          "text": [
            "anthonymcgaffin\n",
            "ANTHONYMCGAFFIN\n",
            "Raven by Edgae Allen Poe\n",
            "Deep into that darkness peering\n",
            "31\n",
            "359\n",
            "Deep \n",
            "more.\n",
            "into that darkness peering Long I stood there, wondering, fearing, Doubting, dreaming dreams no mortals Ever dared to dream before; But the silence was unbroken, And the stillness gave no token, And the only word there spoken Was the whispered word, 'Lenore!' This I whispered, and an echo Murmured back the word, 'Lenore!' Merely this, and nothing \n",
            "anthony mcgaffin\n",
            "['anthony', 'mcgaffin']\n"
          ]
        }
      ],
      "source": [
        "#1 Ask the user to enter their first name and surname in lower case.\n",
        "first_name = \"anthony\"\n",
        "last_name = \"mcgaffin\"\n",
        "print((first_name)+(last_name))\n",
        "\n",
        "# upper case the name and join them together\n",
        "name = (first_name)+(last_name)\n",
        "name = name.upper()\n",
        "print(name)\n",
        "\n",
        "#2 Ask the user to type in the first line of a poem Raven by Edgar Allen Poe and display the length of the string.\n",
        "print(\"Raven by Edgae Allen Poe\")\n",
        "line1 = (\"Deep into that darkness peering\")\n",
        "print(line1)\n",
        "print(len(line1))\n",
        "\n",
        "#Ask for a starting number and an ending number and then display just that section of the text (remember Python starts counting from 0 and not 1).\n",
        "poem = (\"Deep into that darkness peering Long I stood there, wondering, fearing, Doubting, dreaming dreams no mortals Ever dared to dream before; But the silence was unbroken, And the stillness gave no token, And the only word there spoken Was the whispered word, 'Lenore!' This I whispered, and an echo Murmured back the word, 'Lenore!' Merely this, and nothing more.\")\n",
        "print(len(poem))\n",
        "poem1 = poem[0:5]\n",
        "poem2 = poem[354:]\n",
        "poem3 = poem[5:354]\n",
        "print(poem1)\n",
        "print(poem2)\n",
        "print(poem3)\n",
        "\n",
        "#Remove extra characters from the start and end of a string and explain why you need to remove white spaces while exploring text.\n",
        "name = (\"anthony mcgaffin\")\n",
        "print(name)\n",
        "print(name.split())\n",
        "\n",
        "#Python processes these white spaces and if Pyton has no idea about white spaces, Pyton cannot properly process the text."
      ]
    },
    {
      "cell_type": "markdown",
      "source": [
        "Deep into that darkness peering,\n",
        "\n",
        "Long I stood there, wondering, fearing,\n",
        "\n",
        "Doubting, dreaming dreams no mortals\n",
        "\n",
        "Ever dared to dream before;\n",
        "\n",
        "But the silence was unbroken,\n",
        "\n",
        "And the stillness gave no token,\n",
        "\n",
        "And the only word there spoken\n",
        "\n",
        "Was the whispered word, \"Lenore!\"\n",
        "\n",
        "This I whispered, and an echo\n",
        "\n",
        "Murmured back the word, \"Lenore!\"\n",
        "\n",
        "Merely this, and nothing more."
      ],
      "metadata": {
        "id": "RvYGtpGeGs5l"
      }
    }
  ]
}