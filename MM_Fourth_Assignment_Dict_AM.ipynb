{
  "nbformat": 4,
  "nbformat_minor": 0,
  "metadata": {
    "colab": {
      "provenance": []
    },
    "kernelspec": {
      "name": "python3",
      "display_name": "Python 3"
    },
    "language_info": {
      "name": "python"
    }
  },
  "cells": [
    {
      "cell_type": "code",
      "execution_count": 26,
      "metadata": {
        "colab": {
          "base_uri": "https://localhost:8080/"
        },
        "id": "HFfEWt8KT8Ov",
        "outputId": "5ac7eef6-f5d6-4562-e3e3-2e1bb3512809"
      },
      "outputs": [
        {
          "output_type": "stream",
          "name": "stdout",
          "text": [
            "{1: 'Sunday', 2: 'Monday', 3: 'Tuesday', 4: 'Wednesday', 5: 'Thursday', 6: 'Friday', 7: 'Saturday'}\n",
            "--------------------------------------------------------------------------------\n",
            "Sunday and Monday\n",
            "Days removed from dictionary: Sunday and Monday\n",
            "--------------------------------------------------------------------------------\n",
            "{3: 'Tuesday', 4: 'Wednesday', 5: 'Thursday', 6: 'Friday', 7: 'Saturday'}\n",
            "--------------------------------------------------------------------------------\n",
            "{'Michael': 20, 'Linda': 30}\n",
            "--------------------------------------------------------------------------------\n",
            "{'Michael': {'Karen': {12: 'female'}, 'Greg': {7: 'male'}}, 'Linda': {'Susan': {6: 'female'}}}\n",
            "--------------------------------------------------------------------------------\n",
            "['Karen', 'Greg']\n",
            "--------------------------------------------------------------------------------\n"
          ]
        }
      ],
      "source": [
        "the_dictionary = {1:\"Sunday\",2:\"Monday\",3:\"Tuesday\",4:\"Wednesday\",5:\"Thursday\",6:\"Friday\",7:\"Saturday\"}\n",
        "print(the_dictionary)\n",
        "print('--'*40)\n",
        "print(the_dictionary[1],'and', the_dictionary[2])\n",
        "popped_item = the_dictionary.pop(1)\n",
        "popped_item2 = the_dictionary.pop(2)\n",
        "print('Days removed from dictionary:',popped_item, 'and', popped_item2)\n",
        "print('--'*40)\n",
        "print(the_dictionary)\n",
        "print('--'*40)\n",
        "the_second_dict = {'Michael':20,'Linda':30}\n",
        "print(the_second_dict)\n",
        "print('--'*40)\n",
        "the_second_dict['Michael'] = {'Karen':{12:'female'},'Greg':{7:'male'}}\n",
        "the_second_dict['Linda'] = {'Susan':{6:'female'}}\n",
        "print(the_second_dict)\n",
        "print('--'*40)\n",
        "print(list(the_second_dict['Michael']))\n",
        "print('--'*40)"
      ]
    },
    {
      "cell_type": "markdown",
      "source": [
        "1- Create a dictionary with 7 days. Ask the user to choose 2 different days by listing the (e.g. \"12\" for Monday and Tuesday). Delete the user-selected days from the dictionary and print the remaining 5 days on the screen.\n",
        "\n",
        "2- Create a dictionary with the following personnel. Use names as keys.\n",
        "(Michael (age: 20)\n",
        "(Linda (age: 30)\n",
        "\n",
        "3- Add child information to Michael and Linda. Michael has two children (Karen (age : 12, female) and Greg (age : 7, male) and Linda has one child (Susan (age: 6, female))\n",
        "\n",
        "4- Print the names of Michael's children in a list."
      ],
      "metadata": {
        "id": "3INtb8CsUI6E"
      }
    }
  ]
}