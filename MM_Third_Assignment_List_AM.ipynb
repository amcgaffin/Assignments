{
  "nbformat": 4,
  "nbformat_minor": 0,
  "metadata": {
    "colab": {
      "provenance": []
    },
    "kernelspec": {
      "name": "python3",
      "display_name": "Python 3"
    },
    "language_info": {
      "name": "python"
    }
  },
  "cells": [
    {
      "cell_type": "code",
      "execution_count": 36,
      "metadata": {
        "colab": {
          "base_uri": "https://localhost:8080/"
        },
        "id": "ZKDA81mg_WNS",
        "outputId": "86a3b7f7-3541-4657-c460-e040914d0043"
      },
      "outputs": [
        {
          "output_type": "stream",
          "name": "stdout",
          "text": [
            "List for #1 --> [2, 12, 34, 37, 45, 54, 56, 66, 67, 76, 98]\n",
            "Sum of the two lowest numbers =  14\n",
            "Sum of the two highest numbers =  174\n",
            "--------------------------------------------------------------------------------\n",
            "List for #2 [('David', 99), ('Michael', 87), ('John', 78), ('James', 86), ('Greg', 68), ('Mark', 94), ('William', 76), ('Richard', 97), ('Thomas', 56), ('Steven', 98), ('Mary', 76), ('Susan', 87), ('Maria', 79), ('Karen', 90), ('Lisa', 73), ('Linda', 93), ('Donna', 82), ('Patricia', 69), ('Debra', 97), ('Eric', 98)]\n",
            "--------------------------------------------------------------------------------\n",
            "List for #2 after sorting by second element [('Thomas', 56), ('Greg', 68), ('Patricia', 69), ('Lisa', 73), ('William', 76), ('Mary', 76), ('John', 78), ('Maria', 79), ('Donna', 82), ('James', 86), ('Michael', 87), ('Susan', 87), ('Karen', 90), ('Linda', 93), ('Mark', 94), ('Richard', 97), ('Debra', 97), ('Steven', 98), ('Eric', 98), ('David', 99)]\n",
            "--------------------------------------------------------------------------------\n",
            "The maximum score is =  99\n",
            "Number of students who received a 99 = 1\n"
          ]
        }
      ],
      "source": [
        "my_list = [34, 56, 76, 45, 2, 12, 67, 98, 37, 54, 66]\n",
        "my_list.sort()\n",
        "print('List for #1 -->', my_list)\n",
        "print('Sum of the two lowest numbers = ', my_list[0]+ my_list[1])\n",
        "print('Sum of the two highest numbers = ', my_list[-1]+my_list[-2])\n",
        "print('--'*40)\n",
        "names = [\"David\", \"Michael\", \"John\", \"James\", \"Greg\", \"Mark\", \"William\", \"Richard\", \"Thomas\", \"Steven\",\n",
        "         \"Mary\", \"Susan\", \"Maria\", \"Karen\", \"Lisa\", \"Linda\", \"Donna\", \"Patricia\", \"Debra\", \"Eric\"]\n",
        "scores = [99, 87, 78, 86, 68, 94, 76, 97, 56, 98, 76, 87, 79, 90, 73, 93, 82, 69, 97, 98]\n",
        "names_scores = list(zip(names,scores))\n",
        "print('List for #2', names_scores)\n",
        "names_scores.sort(key=lambda x: x[1])\n",
        "print('--'*40)\n",
        "print('List for #2 after sorting by second element', names_scores)\n",
        "print('--'*40)\n",
        "max_score = names_scores[-1]\n",
        "print('The maximum score is = ', max_score[-1])\n",
        "print('Number of students who received a 99 =', names_scores.count(max_score))"
      ]
    },
    {
      "cell_type": "markdown",
      "source": [
        "1- Write a code to compute the sum of the two lowest numbers and the two highest numbers in the following list.\n",
        "\n",
        "my_list = [34, 56, 76, 45, 2, 12, 67, 98, 37, 54, 66]\n",
        "\n",
        "2- The following two lists contain student names and scores. Write a code that gets the name from the user and prints the score of that student.\n",
        "\n",
        "names = [\"David\", \"Michael\", \"John\", \"James\", \"Greg\", \"Mark\", \"William\", \"Richard\", \"Thomas\", \"Steven\",\n",
        "\n",
        "   \"Mary\", \"Susan\", \"Maria\", \"Karen\", \"Lisa\", \"Linda\", \"Donna\", \"Patricia\", \"Debra\", \"Eric\"]\n",
        "scores = [99, 87, 78, 86, 68, 94, 76, 97, 56, 98, 76, 87, 79, 90, 73, 93, 82, 69, 97, 98]\n",
        "\n",
        "3- By using the two lists above, what is the maximum score and how many students got that score?\n"
      ],
      "metadata": {
        "id": "Cp0OQfts_l10"
      }
    }
  ]
}